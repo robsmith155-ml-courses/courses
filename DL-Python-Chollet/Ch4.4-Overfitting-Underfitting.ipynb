{
 "cells": [
  {
   "cell_type": "markdown",
   "metadata": {},
   "source": [
    "# Overfitting and underfitting\n",
    "This notebook is based on the material in chapter 4.4 (page 104) of the book. Here we will look in more detail at one of the main challenges in machine learning, the tension between optimization and generalization. Our goal in machine learning is to build a model that will generalize well to make predictions/classifications on data it has not seen before. However, during training, the optimization process is trying to build the best model for the training data we are using. As we saw in previous examples, this can lead to overfitting, where the model performs almost perfectly on the test data but poorly on data that it has not seen before. Similarly, if we only let the model train for a few epochs, then the training and validation loss may still be improving, so at this point we are under-fitting. At a certain point though, generalization will stop improving, and the validation metrics will stall and start to degrade. At this point, the model is beginning to learn patterns that are specific to the training dataset.\n",
    "\n",
    "We have a number of options when it comes to avoiding overfitting. The best option is to have more data available for training. If more data is not available, the next best option is to reduce the amount of information that the model can store. This can be achived in a number of ways:\n",
    "\n",
    "- Use less hidden layers and/or units per layer\n",
    "- Regularization to constrain the information the model can store. This can be achieved in a number of ways:\n",
    "    - Weight regularization, to force the weights to only take small values, making the model less complex\n",
    "    - Dropout - randomly dropping a number of output features from a layer\n",
    "    \n",
    "Let's go back to the IMDB movie review classification problem that we worked on in chapter 3 and try some of these methods to reduce overfitting.\n",
    "\n",
    "## Reducing the size of the network\n",
    "In the original model that we used for this problem, we had two hidden layers, each with 16 units. Let's try reducing this to four units per layer to see the effect on the validation loss.\n",
    "\n",
    "### Load the data"
   ]
  },
  {
   "cell_type": "code",
   "execution_count": 1,
   "metadata": {},
   "outputs": [
    {
     "name": "stderr",
     "output_type": "stream",
     "text": [
      "Using TensorFlow backend.\n"
     ]
    }
   ],
   "source": [
    "from keras.datasets import imdb\n",
    "(train_d,train_l), (test_d,test_l) = imdb.load_data(num_words=10000)"
   ]
  },
  {
   "cell_type": "markdown",
   "metadata": {},
   "source": [
    "### One-hot encode the data"
   ]
  },
  {
   "cell_type": "code",
   "execution_count": 2,
   "metadata": {},
   "outputs": [],
   "source": [
    "import numpy as np\n",
    "\n",
    "def vectorize_sequences(sequences,dimension=10000):\n",
    "    result = np.zeros((len(sequences),dimension))\n",
    "    for i,sequence in enumerate(sequences):\n",
    "        result[i,sequence] = 1\n",
    "    return result\n",
    "\n",
    "# Vectorize the training and test data and labels\n",
    "x_train = vectorize_sequences(train_d)\n",
    "x_test = vectorize_sequences(test_d)  "
   ]
  },
  {
   "cell_type": "code",
   "execution_count": 3,
   "metadata": {},
   "outputs": [],
   "source": [
    "# Our vectorized labels\n",
    "y_train = np.asarray(train_l).astype('float32')\n",
    "y_test = np.asarray(test_l).astype('float32')"
   ]
  },
  {
   "cell_type": "code",
   "execution_count": 6,
   "metadata": {},
   "outputs": [],
   "source": [
    "x_val = x_train[:10000]\n",
    "partial_x_train = x_train[10000:]\n",
    "y_val = y_train[:10000]\n",
    "partial_y_train = y_train[10000:]"
   ]
  },
  {
   "cell_type": "markdown",
   "metadata": {},
   "source": [
    "### Build the original model"
   ]
  },
  {
   "cell_type": "code",
   "execution_count": 4,
   "metadata": {},
   "outputs": [],
   "source": [
    "from keras import models\n",
    "from keras import layers"
   ]
  },
  {
   "cell_type": "code",
   "execution_count": 7,
   "metadata": {},
   "outputs": [],
   "source": [
    "orig_model = models.Sequential()\n",
    "orig_model.add(layers.Dense(16,activation='relu',input_shape=(10000,)))\n",
    "orig_model.add(layers.Dense(16,activation='relu'))\n",
    "orig_model.add(layers.Dense(1,activation='sigmoid'))\n",
    "\n",
    "orig_model.compile(optimizer='rmsprop',loss='binary_crossentropy',metrics=['acc'])"
   ]
  },
  {
   "cell_type": "code",
   "execution_count": 8,
   "metadata": {},
   "outputs": [
    {
     "name": "stdout",
     "output_type": "stream",
     "text": [
      "Train on 15000 samples, validate on 10000 samples\n",
      "Epoch 1/20\n",
      "15000/15000 [==============================] - 3s 231us/step - loss: 0.5344 - acc: 0.7746 - val_loss: 0.3943 - val_acc: 0.8687\n",
      "Epoch 2/20\n",
      "15000/15000 [==============================] - 3s 186us/step - loss: 0.3181 - acc: 0.8973 - val_loss: 0.3277 - val_acc: 0.8713\n",
      "Epoch 3/20\n",
      "15000/15000 [==============================] - 3s 184us/step - loss: 0.2343 - acc: 0.9245 - val_loss: 0.2862 - val_acc: 0.8880\n",
      "Epoch 4/20\n",
      "15000/15000 [==============================] - 3s 193us/step - loss: 0.1844 - acc: 0.9401 - val_loss: 0.2745 - val_acc: 0.8905\n",
      "Epoch 5/20\n",
      "15000/15000 [==============================] - 3s 196us/step - loss: 0.1526 - acc: 0.9509 - val_loss: 0.2998 - val_acc: 0.8805\n",
      "Epoch 6/20\n",
      "15000/15000 [==============================] - 3s 200us/step - loss: 0.1224 - acc: 0.9627 - val_loss: 0.2882 - val_acc: 0.8867\n",
      "Epoch 7/20\n",
      "15000/15000 [==============================] - 3s 195us/step - loss: 0.1069 - acc: 0.9657 - val_loss: 0.3039 - val_acc: 0.8840\n",
      "Epoch 8/20\n",
      "15000/15000 [==============================] - 3s 190us/step - loss: 0.0854 - acc: 0.9754 - val_loss: 0.3228 - val_acc: 0.8807\n",
      "Epoch 9/20\n",
      "15000/15000 [==============================] - 3s 193us/step - loss: 0.0688 - acc: 0.9825 - val_loss: 0.3452 - val_acc: 0.8799\n",
      "Epoch 10/20\n",
      "15000/15000 [==============================] - 3s 193us/step - loss: 0.0572 - acc: 0.9864 - val_loss: 0.4035 - val_acc: 0.8719\n",
      "Epoch 11/20\n",
      "15000/15000 [==============================] - 3s 190us/step - loss: 0.0466 - acc: 0.9899 - val_loss: 0.3958 - val_acc: 0.8747\n",
      "Epoch 12/20\n",
      "15000/15000 [==============================] - 3s 189us/step - loss: 0.0371 - acc: 0.9926 - val_loss: 0.4194 - val_acc: 0.8743\n",
      "Epoch 13/20\n",
      "15000/15000 [==============================] - 3s 192us/step - loss: 0.0310 - acc: 0.9947 - val_loss: 0.4873 - val_acc: 0.8709\n",
      "Epoch 14/20\n",
      "15000/15000 [==============================] - 3s 197us/step - loss: 0.0234 - acc: 0.9955 - val_loss: 0.5095 - val_acc: 0.8707\n",
      "Epoch 15/20\n",
      "15000/15000 [==============================] - 3s 195us/step - loss: 0.0162 - acc: 0.9978 - val_loss: 0.5735 - val_acc: 0.8552\n",
      "Epoch 16/20\n",
      "15000/15000 [==============================] - 3s 194us/step - loss: 0.0156 - acc: 0.9980 - val_loss: 0.5417 - val_acc: 0.8688\n",
      "Epoch 17/20\n",
      "15000/15000 [==============================] - 3s 197us/step - loss: 0.0102 - acc: 0.9991 - val_loss: 0.5755 - val_acc: 0.8698\n",
      "Epoch 18/20\n",
      "15000/15000 [==============================] - 3s 209us/step - loss: 0.0102 - acc: 0.9985 - val_loss: 0.6040 - val_acc: 0.8665\n",
      "Epoch 19/20\n",
      "15000/15000 [==============================] - 3s 195us/step - loss: 0.0050 - acc: 0.9998 - val_loss: 0.6359 - val_acc: 0.8662\n",
      "Epoch 20/20\n",
      "15000/15000 [==============================] - 3s 197us/step - loss: 0.0076 - acc: 0.9985 - val_loss: 0.6628 - val_acc: 0.8660\n"
     ]
    }
   ],
   "source": [
    "history_orig = orig_model.fit(partial_x_train,\n",
    "                             partial_y_train,\n",
    "                             batch_size=512,\n",
    "                             epochs=20,\n",
    "                             validation_data=(x_val,y_val))\n"
   ]
  },
  {
   "cell_type": "markdown",
   "metadata": {},
   "source": [
    "### Build smaller model\n",
    "Now lets do the same thing but this time use one four units in each of the two hidden layers of the network."
   ]
  },
  {
   "cell_type": "code",
   "execution_count": 13,
   "metadata": {},
   "outputs": [],
   "source": [
    "small_model = models.Sequential()\n",
    "small_model.add(layers.Dense(4,activation='relu',input_shape=(10000,)))\n",
    "small_model.add(layers.Dense(4,activation='relu'))\n",
    "small_model.add(layers.Dense(1,activation='sigmoid'))\n",
    "\n",
    "small_model.compile(optimizer='rmsprop',loss='binary_crossentropy',metrics=['acc'])"
   ]
  },
  {
   "cell_type": "code",
   "execution_count": 14,
   "metadata": {},
   "outputs": [
    {
     "name": "stdout",
     "output_type": "stream",
     "text": [
      "Train on 15000 samples, validate on 10000 samples\n",
      "Epoch 1/20\n",
      "15000/15000 [==============================] - 6s 425us/step - loss: 0.5819 - acc: 0.7896 - val_loss: 0.4990 - val_acc: 0.8500\n",
      "Epoch 2/20\n",
      "15000/15000 [==============================] - 5s 353us/step - loss: 0.4336 - acc: 0.8813 - val_loss: 0.4110 - val_acc: 0.8653\n",
      "Epoch 3/20\n",
      "15000/15000 [==============================] - 5s 362us/step - loss: 0.3485 - acc: 0.9008 - val_loss: 0.3568 - val_acc: 0.8789\n",
      "Epoch 4/20\n",
      "15000/15000 [==============================] - 5s 359us/step - loss: 0.2898 - acc: 0.9157 - val_loss: 0.3207 - val_acc: 0.8848\n",
      "Epoch 5/20\n",
      "15000/15000 [==============================] - 5s 355us/step - loss: 0.2470 - acc: 0.9271 - val_loss: 0.2979 - val_acc: 0.8896\n",
      "Epoch 6/20\n",
      "15000/15000 [==============================] - 5s 357us/step - loss: 0.2147 - acc: 0.9351 - val_loss: 0.2853 - val_acc: 0.8899\n",
      "Epoch 7/20\n",
      "15000/15000 [==============================] - 6s 376us/step - loss: 0.1897 - acc: 0.9438 - val_loss: 0.2778 - val_acc: 0.8909\n",
      "Epoch 8/20\n",
      "15000/15000 [==============================] - 4s 264us/step - loss: 0.1686 - acc: 0.9503 - val_loss: 0.2744 - val_acc: 0.8902\n",
      "Epoch 9/20\n",
      "15000/15000 [==============================] - 5s 349us/step - loss: 0.1517 - acc: 0.9560 - val_loss: 0.2755 - val_acc: 0.8893\n",
      "Epoch 10/20\n",
      "15000/15000 [==============================] - 5s 306us/step - loss: 0.1366 - acc: 0.9595 - val_loss: 0.2781 - val_acc: 0.8874\n",
      "Epoch 11/20\n",
      "15000/15000 [==============================] - 4s 250us/step - loss: 0.1244 - acc: 0.9649 - val_loss: 0.2891 - val_acc: 0.8869\n",
      "Epoch 12/20\n",
      "15000/15000 [==============================] - 6s 398us/step - loss: 0.1124 - acc: 0.9691 - val_loss: 0.2956 - val_acc: 0.8853\n",
      "Epoch 13/20\n",
      "15000/15000 [==============================] - 6s 398us/step - loss: 0.1019 - acc: 0.9717 - val_loss: 0.2992 - val_acc: 0.8857\n",
      "Epoch 14/20\n",
      "15000/15000 [==============================] - 5s 367us/step - loss: 0.0921 - acc: 0.9751 - val_loss: 0.3039 - val_acc: 0.8844\n",
      "Epoch 15/20\n",
      "15000/15000 [==============================] - 6s 367us/step - loss: 0.0836 - acc: 0.9783 - val_loss: 0.3151 - val_acc: 0.8832\n",
      "Epoch 16/20\n",
      "15000/15000 [==============================] - 5s 361us/step - loss: 0.0761 - acc: 0.9807 - val_loss: 0.3223 - val_acc: 0.8837\n",
      "Epoch 17/20\n",
      "15000/15000 [==============================] - 6s 368us/step - loss: 0.0686 - acc: 0.9835 - val_loss: 0.3356 - val_acc: 0.8803\n",
      "Epoch 18/20\n",
      "15000/15000 [==============================] - 5s 363us/step - loss: 0.0619 - acc: 0.9863 - val_loss: 0.3488 - val_acc: 0.8792\n",
      "Epoch 19/20\n",
      "15000/15000 [==============================] - 5s 359us/step - loss: 0.0558 - acc: 0.9883 - val_loss: 0.3600 - val_acc: 0.8803\n",
      "Epoch 20/20\n",
      "15000/15000 [==============================] - 5s 360us/step - loss: 0.0502 - acc: 0.9895 - val_loss: 0.3782 - val_acc: 0.8760\n"
     ]
    }
   ],
   "source": [
    "history_small = small_model.fit(partial_x_train,\n",
    "                               partial_y_train,\n",
    "                               batch_size=512,\n",
    "                               epochs=20,\n",
    "                               validation_data=(x_val,y_val))"
   ]
  },
  {
   "cell_type": "markdown",
   "metadata": {},
   "source": [
    "### Compare model validation loss\n",
    "Now let's compare the validation loss of the original and smaller neural networks."
   ]
  },
  {
   "cell_type": "code",
   "execution_count": 16,
   "metadata": {},
   "outputs": [
    {
     "data": {
      "image/png": "[encoded data removed]",
      "text/plain": [
       "<Figure size 432x288 with 1 Axes>"
      ]
     },
     "metadata": {
      "needs_background": "light"
     },
     "output_type": "display_data"
    }
   ],
   "source": [
    "import matplotlib.pyplot as plt\n",
    "%matplotlib inline\n",
    "\n",
    "history_orig_dict = history_orig.history\n",
    "val_loss_values_orig = history_orig_dict['val_loss']\n",
    "\n",
    "history_small_dict = history_small.history\n",
    "val_loss_values_small = history_small_dict['val_loss']\n",
    "\n",
    "epochs = range(1,21)\n",
    "\n",
    "plt.plot(epochs,val_loss_values_orig,'bo',label='Validation loss - original')\n",
    "plt.plot(epochs,val_loss_values_small,'r+',label='Validation loss - smaller network')\n",
    "plt.title('Effect of model size on validation loss')\n",
    "plt.xlabel('Epoch')\n",
    "plt.ylabel('Validation Loss')\n",
    "plt.legend()\n",
    "plt.show()"
   ]
  },
  {
   "cell_type": "markdown",
   "metadata": {},
   "source": [
    "The figure above shows that overfitting starts at a later epoch for the smaller network (after around ten runs) compared to the original network (five epochs). Also the rate at which the validation loss increases is much slower for the smaller model than the model we started with. This shows that using a smaller network can help to reduce overfitting."
   ]
  },
  {
   "cell_type": "markdown",
   "metadata": {},
   "source": [
    "## Weight regularization\n",
    "Another option to reduce overfitting is to constrain the values that the model weights can take. Here we force the weights to only take small values, which makes the distribution of weights more regular. With this method, we add a cost to the loss function associated with having large weights. This cost has two types:\n",
    "\n",
    "- L1 regularization: The cost we add is proportional to the absolute value of the weight coefficient. This is known as the L1 norm of the weights.\n",
    "- L2 regularization: The cost we add is proportional to the square of the value of the weight coefficients. This is known as the L2 norm of the weights. L2 regularization is also known as weight decay. \n",
    "\n",
    "To add weight regularization in keras we can use weight regularizer instances as keyword arguments."
   ]
  },
  {
   "cell_type": "code",
   "execution_count": 17,
   "metadata": {},
   "outputs": [],
   "source": [
    "from keras import regularizers"
   ]
  },
  {
   "cell_type": "code",
   "execution_count": 18,
   "metadata": {},
   "outputs": [],
   "source": [
    "model = models.Sequential()\n",
    "model.add(layers.Dense(16,kernel_regularizer=regularizers.l2(0.001),\n",
    "                       activation='relu',input_shape=(10000,)))\n",
    "model.add(layers.Dense(16,kernel_regularizer=regularizers.l2(0.001),\n",
    "                       activation='relu'))\n",
    "model.add(layers.Dense(1,activation='sigmoid'))\n",
    "\n",
    "model.compile(optimizer='rmsprop',loss='binary_crossentropy',metrics=['acc'])"
   ]
  },
  {
   "cell_type": "code",
   "execution_count": 19,
   "metadata": {},
   "outputs": [
    {
     "name": "stdout",
     "output_type": "stream",
     "text": [
      "Train on 15000 samples, validate on 10000 samples\n",
      "Epoch 1/20\n",
      "15000/15000 [==============================] - 7s 466us/step - loss: 0.5700 - acc: 0.7893 - val_loss: 0.4855 - val_acc: 0.8242\n",
      "Epoch 2/20\n",
      "15000/15000 [==============================] - 6s 386us/step - loss: 0.3772 - acc: 0.8957 - val_loss: 0.3709 - val_acc: 0.8748\n",
      "Epoch 3/20\n",
      "15000/15000 [==============================] - 6s 382us/step - loss: 0.2964 - acc: 0.9186 - val_loss: 0.3366 - val_acc: 0.8873\n",
      "Epoch 4/20\n",
      "15000/15000 [==============================] - 6s 401us/step - loss: 0.2561 - acc: 0.9304 - val_loss: 0.3330 - val_acc: 0.8851\n",
      "Epoch 5/20\n",
      "15000/15000 [==============================] - 6s 375us/step - loss: 0.2346 - acc: 0.9404 - val_loss: 0.3419 - val_acc: 0.8836\n",
      "Epoch 6/20\n",
      "15000/15000 [==============================] - 6s 388us/step - loss: 0.2188 - acc: 0.9464 - val_loss: 0.3339 - val_acc: 0.8839\n",
      "Epoch 7/20\n",
      "15000/15000 [==============================] - 6s 370us/step - loss: 0.2044 - acc: 0.9516 - val_loss: 0.3407 - val_acc: 0.8844\n",
      "Epoch 8/20\n",
      "15000/15000 [==============================] - 6s 378us/step - loss: 0.1977 - acc: 0.9535 - val_loss: 0.3480 - val_acc: 0.8828\n",
      "Epoch 9/20\n",
      "15000/15000 [==============================] - 6s 384us/step - loss: 0.1911 - acc: 0.9567 - val_loss: 0.3558 - val_acc: 0.8832\n",
      "Epoch 10/20\n",
      "15000/15000 [==============================] - 6s 373us/step - loss: 0.1820 - acc: 0.9590 - val_loss: 0.3689 - val_acc: 0.8767\n",
      "Epoch 11/20\n",
      "15000/15000 [==============================] - 6s 377us/step - loss: 0.1757 - acc: 0.9637 - val_loss: 0.3783 - val_acc: 0.8806\n",
      "Epoch 12/20\n",
      "15000/15000 [==============================] - 6s 373us/step - loss: 0.1718 - acc: 0.9653 - val_loss: 0.3765 - val_acc: 0.8791\n",
      "Epoch 13/20\n",
      "15000/15000 [==============================] - 6s 378us/step - loss: 0.1688 - acc: 0.9647 - val_loss: 0.3925 - val_acc: 0.8727\n",
      "Epoch 14/20\n",
      "15000/15000 [==============================] - 6s 374us/step - loss: 0.1606 - acc: 0.9692 - val_loss: 0.3947 - val_acc: 0.8758\n",
      "Epoch 15/20\n",
      "15000/15000 [==============================] - 6s 369us/step - loss: 0.1620 - acc: 0.9664 - val_loss: 0.4051 - val_acc: 0.8718\n",
      "Epoch 16/20\n",
      "15000/15000 [==============================] - 5s 363us/step - loss: 0.1582 - acc: 0.9687 - val_loss: 0.4180 - val_acc: 0.8676\n",
      "Epoch 17/20\n",
      "15000/15000 [==============================] - 6s 369us/step - loss: 0.1531 - acc: 0.9713 - val_loss: 0.4649 - val_acc: 0.8621\n",
      "Epoch 18/20\n",
      "15000/15000 [==============================] - 5s 365us/step - loss: 0.1487 - acc: 0.9727 - val_loss: 0.4453 - val_acc: 0.8703\n",
      "Epoch 19/20\n",
      "15000/15000 [==============================] - 6s 370us/step - loss: 0.1471 - acc: 0.9735 - val_loss: 0.4509 - val_acc: 0.8625\n",
      "Epoch 20/20\n",
      "15000/15000 [==============================] - 6s 386us/step - loss: 0.1434 - acc: 0.9761 - val_loss: 0.4304 - val_acc: 0.8730\n"
     ]
    }
   ],
   "source": [
    "history_l2 = model.fit(partial_x_train,\n",
    "                      partial_y_train,\n",
    "                      batch_size=512,\n",
    "                      epochs=20,\n",
    "                      validation_data=(x_val,y_val))"
   ]
  },
  {
   "cell_type": "code",
   "execution_count": 20,
   "metadata": {},
   "outputs": [
    {
     "data": {
      "image/png": "[encoded data removed]",
      "text/plain": [
       "<Figure size 432x288 with 1 Axes>"
      ]
     },
     "metadata": {
      "needs_background": "light"
     },
     "output_type": "display_data"
    }
   ],
   "source": [
    "history_l2_dict = history_l2.history\n",
    "val_loss_values_l2 = history_l2_dict['val_loss']\n",
    "\n",
    "epochs = range(1,21)\n",
    "\n",
    "plt.plot(epochs,val_loss_values_orig,'bo',label='Validation loss - original')\n",
    "plt.plot(epochs,val_loss_values_l2,'r+',label='Validation loss - L2 regularization')\n",
    "plt.title('Effect of weight regularization on validation loss')\n",
    "plt.xlabel('Epoch')\n",
    "plt.ylabel('Validation Loss')\n",
    "plt.legend()\n",
    "plt.show()"
   ]
  },
  {
   "cell_type": "markdown",
   "metadata": {},
   "source": [
    "Here we can see that the L2-regularized model is more resistant to overfitting, although the best validation loss is slightly worse than the original model.\n",
    "\n",
    "## Adding dropout\n",
    "Dropout, which was developed by Geoff hinton, is one of the most effective and widely used methods of regularizing neural networks. Here we simply randomly drop a specified number of activations from each output layer. Here we just need to set the dropout rate, which specifies the fraction of features to be zeroed out. \n",
    "\n",
    "Note that we don't want to effect the outputs of the model, so we need to multiply the remaining values in the layer by the same proportion that we drop (i.e. if we drop half the activations then we should multiply the remaining values by 2). This is to ensure that the next layer doesn't suddenly see drastically different values due to the dropout.\n",
    "\n",
    "To implement dropout in Keras we simply add a new layer using the dropout option.\n"
   ]
  },
  {
   "cell_type": "code",
   "execution_count": 21,
   "metadata": {},
   "outputs": [],
   "source": [
    "model = models.Sequential()\n",
    "model.add(layers.Dense(16,activation='relu',input_shape=(10000,)))\n",
    "model.add(layers.Dropout(0.5))\n",
    "model.add(layers.Dense(16,activation='relu'))\n",
    "model.add(layers.Dropout(0.5))\n",
    "model.add(layers.Dense(1,activation='sigmoid'))\n",
    "\n",
    "model.compile(optimizer='rmsprop',loss='binary_crossentropy',metrics=['acc'])"
   ]
  },
  {
   "cell_type": "code",
   "execution_count": 22,
   "metadata": {},
   "outputs": [
    {
     "name": "stdout",
     "output_type": "stream",
     "text": [
      "Train on 15000 samples, validate on 10000 samples\n",
      "Epoch 1/20\n",
      "15000/15000 [==============================] - 7s 445us/step - loss: 0.6383 - acc: 0.6236 - val_loss: 0.5497 - val_acc: 0.8381\n",
      "Epoch 2/20\n",
      "15000/15000 [==============================] - 6s 415us/step - loss: 0.5392 - acc: 0.7463 - val_loss: 0.4583 - val_acc: 0.8383\n",
      "Epoch 3/20\n",
      "15000/15000 [==============================] - 6s 374us/step - loss: 0.4615 - acc: 0.8125 - val_loss: 0.4011 - val_acc: 0.8552\n",
      "Epoch 4/20\n",
      "15000/15000 [==============================] - 5s 354us/step - loss: 0.4004 - acc: 0.8483 - val_loss: 0.3372 - val_acc: 0.8824\n",
      "Epoch 5/20\n",
      "15000/15000 [==============================] - 6s 371us/step - loss: 0.3478 - acc: 0.8744 - val_loss: 0.3149 - val_acc: 0.8844\n",
      "Epoch 6/20\n",
      "15000/15000 [==============================] - 5s 358us/step - loss: 0.3062 - acc: 0.8988 - val_loss: 0.3053 - val_acc: 0.8860\n",
      "Epoch 7/20\n",
      "15000/15000 [==============================] - 6s 418us/step - loss: 0.2683 - acc: 0.9148 - val_loss: 0.3002 - val_acc: 0.8859\n",
      "Epoch 8/20\n",
      "15000/15000 [==============================] - 6s 400us/step - loss: 0.2443 - acc: 0.9272 - val_loss: 0.2938 - val_acc: 0.8820\n",
      "Epoch 9/20\n",
      "15000/15000 [==============================] - 6s 375us/step - loss: 0.2216 - acc: 0.9370 - val_loss: 0.3034 - val_acc: 0.8844\n",
      "Epoch 10/20\n",
      "15000/15000 [==============================] - 6s 367us/step - loss: 0.1955 - acc: 0.9437 - val_loss: 0.3332 - val_acc: 0.8870\n",
      "Epoch 11/20\n",
      "15000/15000 [==============================] - 6s 369us/step - loss: 0.1816 - acc: 0.9483 - val_loss: 0.3456 - val_acc: 0.8864\n",
      "Epoch 12/20\n",
      "15000/15000 [==============================] - 5s 361us/step - loss: 0.1726 - acc: 0.9509 - val_loss: 0.3423 - val_acc: 0.8791\n",
      "Epoch 13/20\n",
      "15000/15000 [==============================] - 6s 367us/step - loss: 0.1532 - acc: 0.9577 - val_loss: 0.3895 - val_acc: 0.8836\n",
      "Epoch 14/20\n",
      "15000/15000 [==============================] - 5s 364us/step - loss: 0.1395 - acc: 0.9657 - val_loss: 0.3638 - val_acc: 0.8786\n",
      "Epoch 15/20\n",
      "15000/15000 [==============================] - 5s 363us/step - loss: 0.1335 - acc: 0.9650 - val_loss: 0.4052 - val_acc: 0.8832\n",
      "Epoch 16/20\n",
      "15000/15000 [==============================] - 6s 376us/step - loss: 0.1239 - acc: 0.9698 - val_loss: 0.4119 - val_acc: 0.8801\n",
      "Epoch 17/20\n",
      "15000/15000 [==============================] - 6s 387us/step - loss: 0.1147 - acc: 0.9709 - val_loss: 0.4880 - val_acc: 0.8827\n",
      "Epoch 18/20\n",
      "15000/15000 [==============================] - 6s 378us/step - loss: 0.1139 - acc: 0.9723 - val_loss: 0.4860 - val_acc: 0.8832\n",
      "Epoch 19/20\n",
      "15000/15000 [==============================] - 6s 372us/step - loss: 0.1053 - acc: 0.9726 - val_loss: 0.5034 - val_acc: 0.8825\n",
      "Epoch 20/20\n",
      "15000/15000 [==============================] - 6s 404us/step - loss: 0.1049 - acc: 0.9756 - val_loss: 0.5383 - val_acc: 0.8817\n"
     ]
    }
   ],
   "source": [
    "history_dp = model.fit(partial_x_train,\n",
    "                      partial_y_train,\n",
    "                      batch_size=512,\n",
    "                      epochs=20,\n",
    "                      validation_data=(x_val,y_val))"
   ]
  },
  {
   "cell_type": "code",
   "execution_count": 23,
   "metadata": {},
   "outputs": [
    {
     "data": {
      "image/png": "[encoded data removed]",
      "text/plain": [
       "<Figure size 432x288 with 1 Axes>"
      ]
     },
     "metadata": {
      "needs_background": "light"
     },
     "output_type": "display_data"
    }
   ],
   "source": [
    "history_dp_dict = history_dp.history\n",
    "val_loss_values_dp = history_dp_dict['val_loss']\n",
    "\n",
    "epochs = range(1,21)\n",
    "\n",
    "plt.plot(epochs,val_loss_values_orig,'bo',label='Validation loss - original')\n",
    "plt.plot(epochs,val_loss_values_dp,'r+',label='Validation loss - Dropout 50%')\n",
    "plt.title('Effect of dropout on validation loss')\n",
    "plt.xlabel('Epoch')\n",
    "plt.ylabel('Validation Loss')\n",
    "plt.legend()\n",
    "plt.show()"
   ]
  },
  {
   "cell_type": "markdown",
   "metadata": {},
   "source": [
    "Again, we see an improvement in resistance to overfitting when using dropout compared to the reference model."
   ]
  },
  {
   "cell_type": "code",
   "execution_count": null,
   "metadata": {},
   "outputs": [],
   "source": []
  }
 ],
 "metadata": {
  "kernelspec": {
   "display_name": "Python 3",
   "language": "python",
   "name": "python3"
  },
  "language_info": {
   "codemirror_mode": {
    "name": "ipython",
    "version": 3
   },
   "file_extension": ".py",
   "mimetype": "text/x-python",
   "name": "python",
   "nbconvert_exporter": "python",
   "pygments_lexer": "ipython3",
   "version": "3.6.6"
  }
 },
 "nbformat": 4,
 "nbformat_minor": 2
}
