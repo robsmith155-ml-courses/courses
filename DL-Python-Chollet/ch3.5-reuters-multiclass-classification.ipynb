{
 "cells": [
  {
   "cell_type": "markdown",
   "metadata": {},
   "source": [
    "# Classifying newswires: a multiclass classification example\n",
    "\n",
    "This example is taken from chapter 3.5 (page 78) in the book. In the previous example (IMDB) we worked on binary classification where the output is one of two things. Here we will work with Reuters newswires toclassify them into 46 mutually exclusive topics. Each newswire has a single class asigned to it, making this an example of single label, multi-class classification. \n",
    "\n",
    "## Load data\n",
    "Like with the IMDB example, the Reuters dataset comes packaged with Keras so we can import directly from there. Again we will restrict it to the 10,000 most frequently used words."
   ]
  },
  {
   "cell_type": "code",
   "execution_count": 2,
   "metadata": {},
   "outputs": [
    {
     "name": "stdout",
     "output_type": "stream",
     "text": [
      "Downloading data from https://s3.amazonaws.com/text-datasets/reuters.npz\n",
      "2113536/2110848 [==============================] - 2s 1us/step\n"
     ]
    }
   ],
   "source": [
    "from keras.datasets import reuters\n",
    "\n",
    "(train_d,train_l),(test_d,test_l) = reuters.load_data(num_words=10000)"
   ]
  },
  {
   "cell_type": "markdown",
   "metadata": {},
   "source": [
    "## Checking data\n",
    "Let's check the size of the rain/test data and what each contain:"
   ]
  },
  {
   "cell_type": "code",
   "execution_count": 4,
   "metadata": {},
   "outputs": [
    {
     "data": {
      "text/plain": [
       "(8982, 8982, 2246, 2246)"
      ]
     },
     "execution_count": 4,
     "metadata": {},
     "output_type": "execute_result"
    }
   ],
   "source": [
    "train_d.size, train_l.size, test_d.size, test_l.size"
   ]
  },
  {
   "cell_type": "markdown",
   "metadata": {},
   "source": [
    "Here we have 8982 examples for training and 2246 for testing. Again, each news report is stored as a list of integers:"
   ]
  },
  {
   "cell_type": "code",
   "execution_count": 5,
   "metadata": {},
   "outputs": [
    {
     "data": {
      "text/plain": [
       "[1,\n",
       " 2,\n",
       " 2,\n",
       " 8,\n",
       " 43,\n",
       " 10,\n",
       " 447,\n",
       " 5,\n",
       " 25,\n",
       " 207,\n",
       " 270,\n",
       " 5,\n",
       " 3095,\n",
       " 111,\n",
       " 16,\n",
       " 369,\n",
       " 186,\n",
       " 90,\n",
       " 67,\n",
       " 7,\n",
       " 89,\n",
       " 5,\n",
       " 19,\n",
       " 102,\n",
       " 6,\n",
       " 19,\n",
       " 124,\n",
       " 15,\n",
       " 90,\n",
       " 67,\n",
       " 84,\n",
       " 22,\n",
       " 482,\n",
       " 26,\n",
       " 7,\n",
       " 48,\n",
       " 4,\n",
       " 49,\n",
       " 8,\n",
       " 864,\n",
       " 39,\n",
       " 209,\n",
       " 154,\n",
       " 6,\n",
       " 151,\n",
       " 6,\n",
       " 83,\n",
       " 11,\n",
       " 15,\n",
       " 22,\n",
       " 155,\n",
       " 11,\n",
       " 15,\n",
       " 7,\n",
       " 48,\n",
       " 9,\n",
       " 4579,\n",
       " 1005,\n",
       " 504,\n",
       " 6,\n",
       " 258,\n",
       " 6,\n",
       " 272,\n",
       " 11,\n",
       " 15,\n",
       " 22,\n",
       " 134,\n",
       " 44,\n",
       " 11,\n",
       " 15,\n",
       " 16,\n",
       " 8,\n",
       " 197,\n",
       " 1245,\n",
       " 90,\n",
       " 67,\n",
       " 52,\n",
       " 29,\n",
       " 209,\n",
       " 30,\n",
       " 32,\n",
       " 132,\n",
       " 6,\n",
       " 109,\n",
       " 15,\n",
       " 17,\n",
       " 12]"
      ]
     },
     "execution_count": 5,
     "metadata": {},
     "output_type": "execute_result"
    }
   ],
   "source": [
    "train_d[0]"
   ]
  },
  {
   "cell_type": "code",
   "execution_count": 6,
   "metadata": {},
   "outputs": [
    {
     "data": {
      "text/plain": [
       "array([ 3,  4,  3,  4,  4,  4,  4,  3,  3, 16], dtype=int64)"
      ]
     },
     "execution_count": 6,
     "metadata": {},
     "output_type": "execute_result"
    }
   ],
   "source": [
    "train_l[:10]"
   ]
  },
  {
   "cell_type": "markdown",
   "metadata": {},
   "source": [
    "The labels are no longer simply 0 or 1, as can be seen for the first 10 xamples in the training set above. In this case we have 46 different classes.\n",
    "\n",
    "### Decoding newswires back to text"
   ]
  },
  {
   "cell_type": "code",
   "execution_count": 11,
   "metadata": {},
   "outputs": [],
   "source": [
    "word_index = reuters.get_word_index()\n",
    "rev_word_index = dict([(value,key) for (key,value) in word_index.items()])"
   ]
  },
  {
   "cell_type": "code",
   "execution_count": 13,
   "metadata": {},
   "outputs": [],
   "source": [
    "decoded_newswire = ' '.join([rev_word_index.get(i-3,'?') for i in train_d[0]])"
   ]
  },
  {
   "cell_type": "code",
   "execution_count": 14,
   "metadata": {},
   "outputs": [
    {
     "data": {
      "text/plain": [
       "'? ? ? said as a result of its december acquisition of space co it expects earnings per share in 1987 of 1 15 to 1 30 dlrs per share up from 70 cts in 1986 the company said pretax net should rise to nine to 10 mln dlrs from six mln dlrs in 1986 and rental operation revenues to 19 to 22 mln dlrs from 12 5 mln dlrs it said cash flow per share this year should be 2 50 to three dlrs reuter 3'"
      ]
     },
     "execution_count": 14,
     "metadata": {},
     "output_type": "execute_result"
    }
   ],
   "source": [
    "decoded_newswire"
   ]
  },
  {
   "cell_type": "markdown",
   "metadata": {},
   "source": [
    "## Data preparation\n",
    "\n",
    "As with the IMDB example, we need to turn the list of lists into a vectorized form. Here we will again one-hot encoding of the data.\n",
    "\n",
    "### Encoding the data"
   ]
  },
  {
   "cell_type": "code",
   "execution_count": 23,
   "metadata": {},
   "outputs": [],
   "source": [
    "import numpy as np\n",
    "\n",
    "def vectorize_sequence(sequences,dimension=10000):\n",
    "    result = np.zeros((len(sequences),dimension))\n",
    "    for i,sequence in enumerate(sequences):\n",
    "        result[i,sequence] = 1.\n",
    "    return result\n"
   ]
  },
  {
   "cell_type": "code",
   "execution_count": 33,
   "metadata": {},
   "outputs": [],
   "source": [
    "x_train = vectorize_sequence(train_d)\n",
    "x_test = vectorize_sequence(test_d)"
   ]
  },
  {
   "cell_type": "markdown",
   "metadata": {},
   "source": [
    "Now we also need to vectorize the labels. In this case we have two options. The first is to turn the label list into an integer tensor. The second option is to use one-hot encoding, like we did for the input data. In this case, it would be a 46 dimensional tensor with zeros everywhere except a one corresponding to the class of the news report."
   ]
  },
  {
   "cell_type": "code",
   "execution_count": 34,
   "metadata": {},
   "outputs": [],
   "source": [
    "def to_one_hot(labels, dimension=46):\n",
    "    results = np.zeros((len(labels), dimension))\n",
    "    for i,label in enumerate(labels):\n",
    "        results[i,label] = 1.\n",
    "    return results"
   ]
  },
  {
   "cell_type": "code",
   "execution_count": 36,
   "metadata": {},
   "outputs": [],
   "source": [
    "y_train = to_one_hot(train_l)\n",
    "y_test = to_one_hot(test_l)"
   ]
  },
  {
   "cell_type": "code",
   "execution_count": 40,
   "metadata": {},
   "outputs": [
    {
     "data": {
      "text/plain": [
       "array([[0., 0., 0., 1., 0., 0., 0., 0., 0., 0., 0., 0., 0., 0., 0., 0.,\n",
       "        0., 0., 0., 0., 0., 0., 0., 0., 0., 0., 0., 0., 0., 0., 0., 0.,\n",
       "        0., 0., 0., 0., 0., 0., 0., 0., 0., 0., 0., 0., 0., 0.],\n",
       "       [0., 0., 0., 0., 1., 0., 0., 0., 0., 0., 0., 0., 0., 0., 0., 0.,\n",
       "        0., 0., 0., 0., 0., 0., 0., 0., 0., 0., 0., 0., 0., 0., 0., 0.,\n",
       "        0., 0., 0., 0., 0., 0., 0., 0., 0., 0., 0., 0., 0., 0.],\n",
       "       [0., 0., 0., 1., 0., 0., 0., 0., 0., 0., 0., 0., 0., 0., 0., 0.,\n",
       "        0., 0., 0., 0., 0., 0., 0., 0., 0., 0., 0., 0., 0., 0., 0., 0.,\n",
       "        0., 0., 0., 0., 0., 0., 0., 0., 0., 0., 0., 0., 0., 0.],\n",
       "       [0., 0., 0., 0., 1., 0., 0., 0., 0., 0., 0., 0., 0., 0., 0., 0.,\n",
       "        0., 0., 0., 0., 0., 0., 0., 0., 0., 0., 0., 0., 0., 0., 0., 0.,\n",
       "        0., 0., 0., 0., 0., 0., 0., 0., 0., 0., 0., 0., 0., 0.],\n",
       "       [0., 0., 0., 0., 1., 0., 0., 0., 0., 0., 0., 0., 0., 0., 0., 0.,\n",
       "        0., 0., 0., 0., 0., 0., 0., 0., 0., 0., 0., 0., 0., 0., 0., 0.,\n",
       "        0., 0., 0., 0., 0., 0., 0., 0., 0., 0., 0., 0., 0., 0.]])"
      ]
     },
     "execution_count": 40,
     "metadata": {},
     "output_type": "execute_result"
    }
   ],
   "source": [
    "y_train[:5,:]"
   ]
  },
  {
   "cell_type": "markdown",
   "metadata": {},
   "source": [
    "Note that what we did above can also be implemented sing the built in functiosn in Keras:"
   ]
  },
  {
   "cell_type": "code",
   "execution_count": 37,
   "metadata": {},
   "outputs": [],
   "source": [
    "from keras.utils.np_utils import to_categorical"
   ]
  },
  {
   "cell_type": "code",
   "execution_count": 42,
   "metadata": {},
   "outputs": [],
   "source": [
    "y_train = to_categorical(train_l)\n",
    "y_test = to_categorical(test_l)"
   ]
  },
  {
   "cell_type": "code",
   "execution_count": 43,
   "metadata": {},
   "outputs": [
    {
     "data": {
      "text/plain": [
       "array([[0., 0., 0., 1., 0., 0., 0., 0., 0., 0., 0., 0., 0., 0., 0., 0.,\n",
       "        0., 0., 0., 0., 0., 0., 0., 0., 0., 0., 0., 0., 0., 0., 0., 0.,\n",
       "        0., 0., 0., 0., 0., 0., 0., 0., 0., 0., 0., 0., 0., 0.],\n",
       "       [0., 0., 0., 0., 1., 0., 0., 0., 0., 0., 0., 0., 0., 0., 0., 0.,\n",
       "        0., 0., 0., 0., 0., 0., 0., 0., 0., 0., 0., 0., 0., 0., 0., 0.,\n",
       "        0., 0., 0., 0., 0., 0., 0., 0., 0., 0., 0., 0., 0., 0.],\n",
       "       [0., 0., 0., 1., 0., 0., 0., 0., 0., 0., 0., 0., 0., 0., 0., 0.,\n",
       "        0., 0., 0., 0., 0., 0., 0., 0., 0., 0., 0., 0., 0., 0., 0., 0.,\n",
       "        0., 0., 0., 0., 0., 0., 0., 0., 0., 0., 0., 0., 0., 0.],\n",
       "       [0., 0., 0., 0., 1., 0., 0., 0., 0., 0., 0., 0., 0., 0., 0., 0.,\n",
       "        0., 0., 0., 0., 0., 0., 0., 0., 0., 0., 0., 0., 0., 0., 0., 0.,\n",
       "        0., 0., 0., 0., 0., 0., 0., 0., 0., 0., 0., 0., 0., 0.],\n",
       "       [0., 0., 0., 0., 1., 0., 0., 0., 0., 0., 0., 0., 0., 0., 0., 0.,\n",
       "        0., 0., 0., 0., 0., 0., 0., 0., 0., 0., 0., 0., 0., 0., 0., 0.,\n",
       "        0., 0., 0., 0., 0., 0., 0., 0., 0., 0., 0., 0., 0., 0.]],\n",
       "      dtype=float32)"
      ]
     },
     "execution_count": 43,
     "metadata": {},
     "output_type": "execute_result"
    }
   ],
   "source": [
    "y_train[:5,:]"
   ]
  },
  {
   "cell_type": "markdown",
   "metadata": {},
   "source": [
    "## Build network\n",
    "Like with the previous example, we will use a series of dense fully connected layers here. The main difference this time is that instead of one output node (representing two possibilities), we have 46 with this example. We also need to use more units per layer, since 16-dimensional space may be too limited to learn 46 different classes."
   ]
  },
  {
   "cell_type": "code",
   "execution_count": 44,
   "metadata": {},
   "outputs": [],
   "source": [
    "from keras import models\n",
    "from keras import layers"
   ]
  },
  {
   "cell_type": "code",
   "execution_count": 45,
   "metadata": {},
   "outputs": [],
   "source": [
    "model = models.Sequential()\n",
    "model.add(layers.Dense(64,activation='relu',input_shape=(10000,)))\n",
    "model.add(layers.Dense(64,activation='relu'))\n",
    "model.add(layers.Dense(46,activation='softmax'))"
   ]
  },
  {
   "cell_type": "markdown",
   "metadata": {},
   "source": [
    "### Compile the model\n",
    "The best loss function to use in this case is the categorical cross-entropy, which measures the distance between the probability distribution output by the network and the desired probability."
   ]
  },
  {
   "cell_type": "code",
   "execution_count": 46,
   "metadata": {},
   "outputs": [],
   "source": [
    "model.compile(loss='categorical_crossentropy',\n",
    "             optimizer='rmsprop',\n",
    "             metrics=['accuracy'])"
   ]
  },
  {
   "cell_type": "markdown",
   "metadata": {},
   "source": [
    "## Validation set\n",
    "Here we will set 1000 samples from the training data aside for the validation set."
   ]
  },
  {
   "cell_type": "code",
   "execution_count": 48,
   "metadata": {},
   "outputs": [],
   "source": [
    "x_val = x_train[:1000]\n",
    "y_val = y_train[:1000]\n",
    "partial_x_train = x_train[1000:]\n",
    "partial_y_train = y_train[1000:]"
   ]
  },
  {
   "cell_type": "markdown",
   "metadata": {},
   "source": [
    "## Train the network\n",
    "Train for 20 epochs.\n"
   ]
  },
  {
   "cell_type": "code",
   "execution_count": 50,
   "metadata": {},
   "outputs": [
    {
     "name": "stdout",
     "output_type": "stream",
     "text": [
      "Train on 7982 samples, validate on 1000 samples\n",
      "Epoch 1/20\n",
      "7982/7982 [==============================] - 2s 237us/step - loss: 2.5322 - acc: 0.4955 - val_loss: 1.7208 - val_acc: 0.6120\n",
      "Epoch 2/20\n",
      "7982/7982 [==============================] - 1s 174us/step - loss: 1.4452 - acc: 0.6879 - val_loss: 1.3459 - val_acc: 0.7060\n",
      "Epoch 3/20\n",
      "7982/7982 [==============================] - 1s 188us/step - loss: 1.0953 - acc: 0.7650 - val_loss: 1.1714 - val_acc: 0.7430\n",
      "Epoch 4/20\n",
      "7982/7982 [==============================] - 1s 183us/step - loss: 0.8699 - acc: 0.8158 - val_loss: 1.0796 - val_acc: 0.7590\n",
      "Epoch 5/20\n",
      "7982/7982 [==============================] - 2s 193us/step - loss: 0.7037 - acc: 0.8474 - val_loss: 0.9851 - val_acc: 0.7830\n",
      "Epoch 6/20\n",
      "7982/7982 [==============================] - 2s 201us/step - loss: 0.5671 - acc: 0.8800 - val_loss: 0.9412 - val_acc: 0.8040\n",
      "Epoch 7/20\n",
      "7982/7982 [==============================] - 1s 181us/step - loss: 0.4587 - acc: 0.9045 - val_loss: 0.9084 - val_acc: 0.8010\n",
      "Epoch 8/20\n",
      "7982/7982 [==============================] - 1s 180us/step - loss: 0.3700 - acc: 0.9230 - val_loss: 0.9350 - val_acc: 0.7900\n",
      "Epoch 9/20\n",
      "7982/7982 [==============================] - 1s 179us/step - loss: 0.3035 - acc: 0.9307 - val_loss: 0.8907 - val_acc: 0.8070\n",
      "Epoch 10/20\n",
      "7982/7982 [==============================] - 1s 179us/step - loss: 0.2540 - acc: 0.9414 - val_loss: 0.9059 - val_acc: 0.8110\n",
      "Epoch 11/20\n",
      "7982/7982 [==============================] - 1s 174us/step - loss: 0.2188 - acc: 0.9466 - val_loss: 0.9176 - val_acc: 0.8130\n",
      "Epoch 12/20\n",
      "7982/7982 [==============================] - 1s 181us/step - loss: 0.1878 - acc: 0.9510 - val_loss: 0.9052 - val_acc: 0.8130\n",
      "Epoch 13/20\n",
      "7982/7982 [==============================] - 1s 177us/step - loss: 0.1704 - acc: 0.9528 - val_loss: 0.9342 - val_acc: 0.8090\n",
      "Epoch 14/20\n",
      "7982/7982 [==============================] - 1s 182us/step - loss: 0.1535 - acc: 0.9555 - val_loss: 0.9677 - val_acc: 0.8080\n",
      "Epoch 15/20\n",
      "7982/7982 [==============================] - 1s 178us/step - loss: 0.1392 - acc: 0.9562 - val_loss: 0.9690 - val_acc: 0.8150\n",
      "Epoch 16/20\n",
      "7982/7982 [==============================] - 1s 186us/step - loss: 0.1316 - acc: 0.9564 - val_loss: 1.0206 - val_acc: 0.8040\n",
      "Epoch 17/20\n",
      "7982/7982 [==============================] - 2s 189us/step - loss: 0.1222 - acc: 0.9578 - val_loss: 1.0286 - val_acc: 0.7960\n",
      "Epoch 18/20\n",
      "7982/7982 [==============================] - 2s 218us/step - loss: 0.1198 - acc: 0.9573 - val_loss: 1.0431 - val_acc: 0.8050\n",
      "Epoch 19/20\n",
      "7982/7982 [==============================] - 2s 190us/step - loss: 0.1138 - acc: 0.9597 - val_loss: 1.0987 - val_acc: 0.7980\n",
      "Epoch 20/20\n",
      "7982/7982 [==============================] - 1s 188us/step - loss: 0.1112 - acc: 0.9592 - val_loss: 1.0712 - val_acc: 0.8020\n"
     ]
    }
   ],
   "source": [
    "history = model.fit(partial_x_train,partial_y_train,epochs=20,batch_size=512,validation_data=(x_val,y_val))"
   ]
  },
  {
   "cell_type": "markdown",
   "metadata": {},
   "source": [
    "### Plot training and validation loss"
   ]
  },
  {
   "cell_type": "code",
   "execution_count": 53,
   "metadata": {},
   "outputs": [
    {
     "data": {
      "image/png": "[encoded data removed]",
      "text/plain": [
       "<Figure size 432x288 with 1 Axes>"
      ]
     },
     "metadata": {
      "needs_background": "light"
     },
     "output_type": "display_data"
    }
   ],
   "source": [
    "import matplotlib.pyplot as plt\n",
    "%matplotlib inline\n",
    "\n",
    "history_dict = history.history\n",
    "loss_values = history_dict['loss']\n",
    "val_loss_values = history_dict['val_loss']\n",
    "epochs = range(1,21)\n",
    "\n",
    "plt.plot(epochs,loss_values,'bo',label='Training loss')\n",
    "plt.plot(epochs,val_loss_values,'b',label='Validation loss')\n",
    "plt.title('Training and validation loss')\n",
    "plt.xlabel('Epoch')\n",
    "plt.ylabel('Loss')\n",
    "plt.legend()\n",
    "plt.show()"
   ]
  },
  {
   "cell_type": "code",
   "execution_count": 54,
   "metadata": {},
   "outputs": [
    {
     "data": {
      "image/png": "[encoded data removed]",
      "text/plain": [
       "<Figure size 432x288 with 1 Axes>"
      ]
     },
     "metadata": {
      "needs_background": "light"
     },
     "output_type": "display_data"
    }
   ],
   "source": [
    "acc_values = history_dict['acc']\n",
    "val_acc_values = history_dict['val_acc']\n",
    "epochs = range(1,21)\n",
    "\n",
    "plt.plot(epochs,acc_values,'bo',label='Training accuracy')\n",
    "plt.plot(epochs,val_acc_values,'b',label='Validation accuracy')\n",
    "plt.title('Training and validation accuracy')\n",
    "plt.xlabel('Epoch')\n",
    "plt.ylabel('Accuracy')\n",
    "plt.legend()\n",
    "plt.show()"
   ]
  },
  {
   "cell_type": "markdown",
   "metadata": {},
   "source": [
    "We can see that the model begins to overfit after around nine epochs. Let's now retrain the model but stop after nine epochs.\n",
    "\n",
    "## Retrain model with nine epochs"
   ]
  },
  {
   "cell_type": "code",
   "execution_count": 55,
   "metadata": {},
   "outputs": [
    {
     "name": "stdout",
     "output_type": "stream",
     "text": [
      "Train on 7982 samples, validate on 1000 samples\n",
      "Epoch 1/9\n",
      "7982/7982 [==============================] - 2s 207us/step - loss: 2.5398 - acc: 0.5226 - val_loss: 1.6733 - val_acc: 0.6570\n",
      "Epoch 2/9\n",
      "7982/7982 [==============================] - 1s 172us/step - loss: 1.3712 - acc: 0.7121 - val_loss: 1.2758 - val_acc: 0.7210\n",
      "Epoch 3/9\n",
      "7982/7982 [==============================] - 1s 173us/step - loss: 1.0136 - acc: 0.7785 - val_loss: 1.1300 - val_acc: 0.7530\n",
      "Epoch 4/9\n",
      "7982/7982 [==============================] - 1s 180us/step - loss: 0.7975 - acc: 0.8255 - val_loss: 1.0536 - val_acc: 0.7590\n",
      "Epoch 5/9\n",
      "7982/7982 [==============================] - 1s 184us/step - loss: 0.6391 - acc: 0.8629 - val_loss: 0.9760 - val_acc: 0.7930\n",
      "Epoch 6/9\n",
      "7982/7982 [==============================] - 2s 197us/step - loss: 0.5119 - acc: 0.8921 - val_loss: 0.9104 - val_acc: 0.8130\n",
      "Epoch 7/9\n",
      "7982/7982 [==============================] - 1s 184us/step - loss: 0.4121 - acc: 0.9146 - val_loss: 0.8925 - val_acc: 0.8210\n",
      "Epoch 8/9\n",
      "7982/7982 [==============================] - 1s 186us/step - loss: 0.3354 - acc: 0.9293 - val_loss: 0.8741 - val_acc: 0.8270\n",
      "Epoch 9/9\n",
      "7982/7982 [==============================] - 1s 182us/step - loss: 0.2786 - acc: 0.9372 - val_loss: 0.9356 - val_acc: 0.8020\n"
     ]
    }
   ],
   "source": [
    "model = models.Sequential()\n",
    "model.add(layers.Dense(64,activation='relu',input_shape=(10000,)))\n",
    "model.add(layers.Dense(64,activation='relu'))\n",
    "model.add(layers.Dense(46,activation='softmax'))\n",
    "\n",
    "model.compile(loss='categorical_crossentropy',\n",
    "             optimizer='rmsprop',\n",
    "             metrics=['accuracy'])\n",
    "\n",
    "history_9 = model.fit(partial_x_train,partial_y_train,epochs=9,batch_size=512,validation_data=(x_val,y_val))"
   ]
  },
  {
   "cell_type": "code",
   "execution_count": 56,
   "metadata": {},
   "outputs": [
    {
     "name": "stdout",
     "output_type": "stream",
     "text": [
      "1000/1000 [==============================] - 0s 197us/step\n"
     ]
    },
    {
     "data": {
      "text/plain": [
       "[0.935603476524353, 0.802]"
      ]
     },
     "execution_count": 56,
     "metadata": {},
     "output_type": "execute_result"
    }
   ],
   "source": [
    "model.evaluate(x_val,y_val)"
   ]
  },
  {
   "cell_type": "markdown",
   "metadata": {},
   "source": [
    "So here we have an accuracy of around 80% on the validation data.\n",
    "\n",
    "### Predictions\n",
    "We can use the model to make predictions on the data that it has not seen (the test dataset). In this case, each prediction is a 46-dimensional vector, where the values should sum to one."
   ]
  },
  {
   "cell_type": "code",
   "execution_count": 57,
   "metadata": {},
   "outputs": [],
   "source": [
    "predictions = model.predict(x_test)"
   ]
  },
  {
   "cell_type": "code",
   "execution_count": 61,
   "metadata": {},
   "outputs": [
    {
     "data": {
      "text/plain": [
       "(46,)"
      ]
     },
     "execution_count": 61,
     "metadata": {},
     "output_type": "execute_result"
    }
   ],
   "source": [
    "predictions[0].shape"
   ]
  },
  {
   "cell_type": "code",
   "execution_count": 64,
   "metadata": {},
   "outputs": [
    {
     "data": {
      "text/plain": [
       "0.9999997"
      ]
     },
     "execution_count": 64,
     "metadata": {},
     "output_type": "execute_result"
    }
   ],
   "source": [
    "np.sum(predictions[0])"
   ]
  },
  {
   "cell_type": "markdown",
   "metadata": {},
   "source": [
    "To find the predicted class, we just need to find which entry has the largest value:"
   ]
  },
  {
   "cell_type": "code",
   "execution_count": 65,
   "metadata": {},
   "outputs": [
    {
     "data": {
      "text/plain": [
       "3"
      ]
     },
     "execution_count": 65,
     "metadata": {},
     "output_type": "execute_result"
    }
   ],
   "source": [
    "np.argmax(predictions[0])"
   ]
  },
  {
   "cell_type": "markdown",
   "metadata": {},
   "source": [
    "Let's evaluate the accuracy of the model on the test data:"
   ]
  },
  {
   "cell_type": "code",
   "execution_count": 59,
   "metadata": {},
   "outputs": [
    {
     "name": "stdout",
     "output_type": "stream",
     "text": [
      "2246/2246 [==============================] - 0s 182us/step\n"
     ]
    }
   ],
   "source": [
    "two_layer_64_test = model.evaluate(x_test,y_test)"
   ]
  },
  {
   "cell_type": "code",
   "execution_count": 60,
   "metadata": {},
   "outputs": [
    {
     "data": {
      "text/plain": [
       "[1.023077686026175, 0.7756010686194165]"
      ]
     },
     "execution_count": 60,
     "metadata": {},
     "output_type": "execute_result"
    }
   ],
   "source": [
    "two_layer_64_test"
   ]
  },
  {
   "cell_type": "markdown",
   "metadata": {},
   "source": [
    "The accuracy on the test dataset is around 78%, which isn't too far from the validation which was 80%.\n",
    "\n",
    "## Casting tensors as integer tensors\n",
    "In the work was done above, the labels were cast as one-hot encoded vectors. An alternative is to cast the labels as an integer tensor, where instead of having a sparse 46-dimensional vector for each example, we just assign the integer corresponding to the class. In this case we can simply cast the labels using Numpy as follows:"
   ]
  },
  {
   "cell_type": "code",
   "execution_count": 66,
   "metadata": {},
   "outputs": [],
   "source": [
    "y_train_int = np.array(train_l)\n",
    "y_test_int = np.array(test_l)"
   ]
  },
  {
   "cell_type": "code",
   "execution_count": 67,
   "metadata": {},
   "outputs": [
    {
     "data": {
      "text/plain": [
       "array([ 3,  4,  3,  4,  4,  4,  4,  3,  3, 16], dtype=int64)"
      ]
     },
     "execution_count": 67,
     "metadata": {},
     "output_type": "execute_result"
    }
   ],
   "source": [
    "y_train_int[:10]"
   ]
  },
  {
   "cell_type": "markdown",
   "metadata": {},
   "source": [
    "The only difference for this approach is the selection of the loss function. For the one-hot encoded labels, we used the categorical cross-entropy. In this case, we should use sparse categorical cross-entropy (which is mathematically equivalent)."
   ]
  },
  {
   "cell_type": "code",
   "execution_count": 68,
   "metadata": {},
   "outputs": [],
   "source": [
    "model.compile(optimizer='rmsprop',\n",
    "             loss='sparse_categorical_crossentropy',\n",
    "             metrics=['accuracy'])"
   ]
  },
  {
   "cell_type": "markdown",
   "metadata": {},
   "source": [
    "## Model tests\n",
    "\n",
    "### Information bottleneck\n",
    "We currently have 46 nodes in the output layer, and 64 for the layers preceeding it. Let's see what happens if we have intermediate layers that are significantly less than 46-dimensional (e.g. 4-dimesional)"
   ]
  },
  {
   "cell_type": "code",
   "execution_count": 77,
   "metadata": {},
   "outputs": [],
   "source": [
    "model = models.Sequential()\n",
    "model.add(layers.Dense(64,activation='relu',input_shape=(10000,)))\n",
    "model.add(layers.Dense(4,activation='relu'))\n",
    "model.add(layers.Dense(46,activation='softmax'))\n",
    "\n"
   ]
  },
  {
   "cell_type": "code",
   "execution_count": 78,
   "metadata": {},
   "outputs": [],
   "source": [
    "model.compile(loss='categorical_crossentropy',\n",
    "             optimizer='rmsprop',\n",
    "             metrics=['accuracy'])"
   ]
  },
  {
   "cell_type": "code",
   "execution_count": 79,
   "metadata": {},
   "outputs": [
    {
     "name": "stdout",
     "output_type": "stream",
     "text": [
      "Train on 7982 samples, validate on 1000 samples\n",
      "Epoch 1/20\n",
      "7982/7982 [==============================] - 3s 336us/step - loss: 2.9299 - acc: 0.3713 - val_loss: 2.1127 - val_acc: 0.5880\n",
      "Epoch 2/20\n",
      "7982/7982 [==============================] - 2s 270us/step - loss: 1.6849 - acc: 0.6505 - val_loss: 1.5471 - val_acc: 0.6430\n",
      "Epoch 3/20\n",
      "7982/7982 [==============================] - 2s 247us/step - loss: 1.2798 - acc: 0.7161 - val_loss: 1.4109 - val_acc: 0.6930\n",
      "Epoch 4/20\n",
      "7982/7982 [==============================] - 2s 234us/step - loss: 1.0856 - acc: 0.7493 - val_loss: 1.3342 - val_acc: 0.7020\n",
      "Epoch 5/20\n",
      "7982/7982 [==============================] - 2s 243us/step - loss: 0.9631 - acc: 0.7704 - val_loss: 1.3048 - val_acc: 0.7140\n",
      "Epoch 6/20\n",
      "7982/7982 [==============================] - 2s 250us/step - loss: 0.8696 - acc: 0.7934 - val_loss: 1.3052 - val_acc: 0.7240\n",
      "Epoch 7/20\n",
      "7982/7982 [==============================] - 2s 266us/step - loss: 0.7929 - acc: 0.8087 - val_loss: 1.3057 - val_acc: 0.7300\n",
      "Epoch 8/20\n",
      "7982/7982 [==============================] - 2s 243us/step - loss: 0.7306 - acc: 0.8218 - val_loss: 1.3249 - val_acc: 0.7260\n",
      "Epoch 9/20\n",
      "7982/7982 [==============================] - 2s 247us/step - loss: 0.6755 - acc: 0.8292 - val_loss: 1.3375 - val_acc: 0.7200\n",
      "Epoch 10/20\n",
      "7982/7982 [==============================] - 2s 267us/step - loss: 0.6307 - acc: 0.8356 - val_loss: 1.3758 - val_acc: 0.7220\n",
      "Epoch 11/20\n",
      "7982/7982 [==============================] - 2s 265us/step - loss: 0.5945 - acc: 0.8423 - val_loss: 1.4037 - val_acc: 0.7230\n",
      "Epoch 12/20\n",
      "7982/7982 [==============================] - 2s 270us/step - loss: 0.5603 - acc: 0.8529 - val_loss: 1.4986 - val_acc: 0.7150\n",
      "Epoch 13/20\n",
      "7982/7982 [==============================] - 2s 264us/step - loss: 0.5302 - acc: 0.8596 - val_loss: 1.4764 - val_acc: 0.7260\n",
      "Epoch 14/20\n",
      "7982/7982 [==============================] - 2s 258us/step - loss: 0.5043 - acc: 0.8644 - val_loss: 1.5104 - val_acc: 0.7210\n",
      "Epoch 15/20\n",
      "7982/7982 [==============================] - 2s 250us/step - loss: 0.4834 - acc: 0.8737 - val_loss: 1.5777 - val_acc: 0.7190\n",
      "Epoch 16/20\n",
      "7982/7982 [==============================] - 2s 256us/step - loss: 0.4628 - acc: 0.8775 - val_loss: 1.5924 - val_acc: 0.7180595 - a\n",
      "Epoch 17/20\n",
      "7982/7982 [==============================] - 2s 267us/step - loss: 0.4421 - acc: 0.8821 - val_loss: 1.6511 - val_acc: 0.7070\n",
      "Epoch 18/20\n",
      "7982/7982 [==============================] - 2s 279us/step - loss: 0.4261 - acc: 0.8860 - val_loss: 1.6876 - val_acc: 0.7170\n",
      "Epoch 19/20\n",
      "7982/7982 [==============================] - 2s 293us/step - loss: 0.4084 - acc: 0.8881 - val_loss: 1.7031 - val_acc: 0.7200\n",
      "Epoch 20/20\n",
      "7982/7982 [==============================] - 2s 271us/step - loss: 0.3946 - acc: 0.8924 - val_loss: 1.7722 - val_acc: 0.7230\n"
     ]
    }
   ],
   "source": [
    "history_bn = model.fit(partial_x_train,partial_y_train,epochs=20,batch_size=128,validation_data=(x_val,y_val))"
   ]
  },
  {
   "cell_type": "code",
   "execution_count": 82,
   "metadata": {},
   "outputs": [
    {
     "data": {
      "image/png": "[encoded data removed]",
      "text/plain": [
       "<Figure size 432x288 with 1 Axes>"
      ]
     },
     "metadata": {
      "needs_background": "light"
     },
     "output_type": "display_data"
    }
   ],
   "source": [
    "history_dict_bn = history_bn.history\n",
    "loss_values_bn = history_dict_bn['loss']\n",
    "val_loss_values_bn = history_dict_bn['val_loss']\n",
    "epochs = range(1,21)\n",
    "\n",
    "plt.plot(epochs,loss_values_bn,'ro',label='Training loss BN')\n",
    "plt.plot(epochs,val_loss_values_bn,'r',label='Validation loss BN')\n",
    "plt.plot(epochs,loss_values,'bo',label='Training loss')\n",
    "plt.plot(epochs,val_loss_values,'b',label='Validation loss')\n",
    "plt.title('Training and validation loss')\n",
    "plt.xlabel('Epoch')\n",
    "plt.ylabel('Loss')\n",
    "plt.legend()\n",
    "plt.show()"
   ]
  },
  {
   "cell_type": "markdown",
   "metadata": {},
   "source": [
    "As we can see, by restricting the second hidden layer to four units increases the loss on both the training and validation datasets."
   ]
  },
  {
   "cell_type": "code",
   "execution_count": 83,
   "metadata": {},
   "outputs": [
    {
     "data": {
      "image/png": "[encoded data removed]",
      "text/plain": [
       "<Figure size 432x288 with 1 Axes>"
      ]
     },
     "metadata": {
      "needs_background": "light"
     },
     "output_type": "display_data"
    }
   ],
   "source": [
    "acc_values_bn = history_dict_bn['acc']\n",
    "val_acc_values_bn = history_dict_bn['val_acc']\n",
    "epochs = range(1,21)\n",
    "\n",
    "plt.plot(epochs,acc_values,'bo',label='Training accuracy')\n",
    "plt.plot(epochs,val_acc_values,'b',label='Validation accuracy')\n",
    "plt.plot(epochs,acc_values_bn,'ro',label='Training accuracy BN')\n",
    "plt.plot(epochs,val_acc_values_bn,'r',label='Validation accuracy BN')\n",
    "plt.title('Training and validation accuracy')\n",
    "plt.xlabel('Epoch')\n",
    "plt.ylabel('Accuracy')\n",
    "plt.legend()\n",
    "plt.show()"
   ]
  },
  {
   "cell_type": "code",
   "execution_count": null,
   "metadata": {},
   "outputs": [],
   "source": []
  }
 ],
 "metadata": {
  "kernelspec": {
   "display_name": "Python 3",
   "language": "python",
   "name": "python3"
  },
  "language_info": {
   "codemirror_mode": {
    "name": "ipython",
    "version": 3
   },
   "file_extension": ".py",
   "mimetype": "text/x-python",
   "name": "python",
   "nbconvert_exporter": "python",
   "pygments_lexer": "ipython3",
   "version": "3.6.6"
  }
 },
 "nbformat": 4,
 "nbformat_minor": 2
}
